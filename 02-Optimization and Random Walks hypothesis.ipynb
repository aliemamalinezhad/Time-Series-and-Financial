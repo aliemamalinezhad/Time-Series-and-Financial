{
 "cells": [
  {
   "cell_type": "markdown",
   "metadata": {},
   "source": [
    "Hi\n",
    "\n",
    "In this section of trading and financial, I'm gonna cover optimization.\n",
    "Investors always looking for a way to gain maximum return and minimum loss, so we use the Optimization method to do it."
   ]
  },
  {
   "cell_type": "code",
   "execution_count": 32,
   "metadata": {},
   "outputs": [],
   "source": [
    "import pandas as pd\n",
    "import numpy as np\n",
    "import datetime as dt\n",
    "from pylab import mpl, plt\n",
    "plt.style.use('seaborn')"
   ]
  },
  {
   "cell_type": "markdown",
   "metadata": {},
   "source": [
    "First of all i import \"itertool\" and product from that ."
   ]
  },
  {
   "cell_type": "code",
   "execution_count": 2,
   "metadata": {},
   "outputs": [],
   "source": [
    "from itertools import product"
   ]
  },
  {
   "cell_type": "markdown",
   "metadata": {},
   "source": [
    "Now I read the data that was prepared from pre section."
   ]
  },
  {
   "cell_type": "code",
   "execution_count": 16,
   "metadata": {},
   "outputs": [],
   "source": [
    "df = pd.read_csv('df.csv', index_col = 0, parse_dates = True)\n"
   ]
  },
  {
   "cell_type": "code",
   "execution_count": 9,
   "metadata": {},
   "outputs": [
    {
     "data": {
      "text/html": [
       "<div>\n",
       "<style scoped>\n",
       "    .dataframe tbody tr th:only-of-type {\n",
       "        vertical-align: middle;\n",
       "    }\n",
       "\n",
       "    .dataframe tbody tr th {\n",
       "        vertical-align: top;\n",
       "    }\n",
       "\n",
       "    .dataframe thead th {\n",
       "        text-align: right;\n",
       "    }\n",
       "</style>\n",
       "<table border=\"1\" class=\"dataframe\">\n",
       "  <thead>\n",
       "    <tr style=\"text-align: right;\">\n",
       "      <th></th>\n",
       "      <th>AMZN.O</th>\n",
       "      <th>SMA_250</th>\n",
       "      <th>SMA_50</th>\n",
       "      <th>Position</th>\n",
       "      <th>Return</th>\n",
       "      <th>Strategy</th>\n",
       "    </tr>\n",
       "    <tr>\n",
       "      <th>Date</th>\n",
       "      <th></th>\n",
       "      <th></th>\n",
       "      <th></th>\n",
       "      <th></th>\n",
       "      <th></th>\n",
       "      <th></th>\n",
       "    </tr>\n",
       "  </thead>\n",
       "  <tbody>\n",
       "    <tr>\n",
       "      <th>2010-12-30</th>\n",
       "      <td>182.75</td>\n",
       "      <td>138.999131</td>\n",
       "      <td>172.5002</td>\n",
       "      <td>1</td>\n",
       "      <td>-0.003387</td>\n",
       "      <td>-0.003387</td>\n",
       "    </tr>\n",
       "    <tr>\n",
       "      <th>2010-12-31</th>\n",
       "      <td>180.00</td>\n",
       "      <td>139.180371</td>\n",
       "      <td>172.9268</td>\n",
       "      <td>1</td>\n",
       "      <td>-0.015162</td>\n",
       "      <td>-0.015162</td>\n",
       "    </tr>\n",
       "    <tr>\n",
       "      <th>2011-01-03</th>\n",
       "      <td>184.22</td>\n",
       "      <td>139.388251</td>\n",
       "      <td>173.3118</td>\n",
       "      <td>1</td>\n",
       "      <td>0.023174</td>\n",
       "      <td>0.023174</td>\n",
       "    </tr>\n",
       "    <tr>\n",
       "      <th>2011-01-04</th>\n",
       "      <td>185.01</td>\n",
       "      <td>139.608291</td>\n",
       "      <td>173.6294</td>\n",
       "      <td>1</td>\n",
       "      <td>0.004279</td>\n",
       "      <td>0.004279</td>\n",
       "    </tr>\n",
       "    <tr>\n",
       "      <th>2011-01-05</th>\n",
       "      <td>187.42</td>\n",
       "      <td>139.823891</td>\n",
       "      <td>173.9978</td>\n",
       "      <td>1</td>\n",
       "      <td>0.012942</td>\n",
       "      <td>0.012942</td>\n",
       "    </tr>\n",
       "  </tbody>\n",
       "</table>\n",
       "</div>"
      ],
      "text/plain": [
       "            AMZN.O     SMA_250    SMA_50  Position    Return  Strategy\n",
       "Date                                                                  \n",
       "2010-12-30  182.75  138.999131  172.5002         1 -0.003387 -0.003387\n",
       "2010-12-31  180.00  139.180371  172.9268         1 -0.015162 -0.015162\n",
       "2011-01-03  184.22  139.388251  173.3118         1  0.023174  0.023174\n",
       "2011-01-04  185.01  139.608291  173.6294         1  0.004279  0.004279\n",
       "2011-01-05  187.42  139.823891  173.9978         1  0.012942  0.012942"
      ]
     },
     "execution_count": 9,
     "metadata": {},
     "output_type": "execute_result"
    }
   ],
   "source": [
    "data = pd.read_csv('data.csv', index_col = 0, parse_dates = True)\n",
    "data.head()"
   ]
  },
  {
   "cell_type": "markdown",
   "metadata": {},
   "source": [
    "### Optimization"
   ]
  },
  {
   "cell_type": "code",
   "execution_count": 17,
   "metadata": {},
   "outputs": [],
   "source": [
    "symbol = 'AMZN.O'"
   ]
  },
  {
   "cell_type": "code",
   "execution_count": 18,
   "metadata": {},
   "outputs": [],
   "source": [
    "sma1 = range(20,61,4)\n",
    "sma2 = range(180,281,10)\n",
    "\n",
    "results = pd.DataFrame()\n",
    "for SMA1,SMA2 in product(sma1, sma2):\n",
    "    data = pd.DataFrame(df[symbol])\n",
    "    data.dropna(inplace = True)\n",
    "    data['Returns'] = np.log(data[symbol]/data[symbol].shift(1))\n",
    "    data['SMA1'] = data[symbol].rolling(SMA1).mean()\n",
    "    data['SMA2'] = data[symbol].rolling(SMA2).mean()\n",
    "    \n",
    "    data.dropna(inplace = True)\n",
    "    data['Possition'] = np.where(data['SMA1'] > data['SMA2'],1,-1)\n",
    "    data['Strategy'] = data['Possition'].shift(1) * data['Returns'] \n",
    "    data.dropna(inplace = True)\n",
    "    perf = np.exp(data[['Returns','Strategy']].sum())\n",
    "    results = results.append(pd.DataFrame({\n",
    "        'SMA1':SMA1, 'SMA2':SMA2,\n",
    "        'MARKET':perf['Returns'],\n",
    "        'Strategy':perf['Strategy'],\n",
    "        'OUT' : perf['Strategy']- perf['Returns']},\n",
    "        index = [0]), ignore_index = True)\n",
    "        \n",
    "    "
   ]
  },
  {
   "cell_type": "code",
   "execution_count": 19,
   "metadata": {},
   "outputs": [
    {
     "data": {
      "text/html": [
       "<div>\n",
       "<style scoped>\n",
       "    .dataframe tbody tr th:only-of-type {\n",
       "        vertical-align: middle;\n",
       "    }\n",
       "\n",
       "    .dataframe tbody tr th {\n",
       "        vertical-align: top;\n",
       "    }\n",
       "\n",
       "    .dataframe thead th {\n",
       "        text-align: right;\n",
       "    }\n",
       "</style>\n",
       "<table border=\"1\" class=\"dataframe\">\n",
       "  <thead>\n",
       "    <tr style=\"text-align: right;\">\n",
       "      <th></th>\n",
       "      <th>SMA1</th>\n",
       "      <th>SMA2</th>\n",
       "      <th>MARKET</th>\n",
       "      <th>Strategy</th>\n",
       "      <th>OUT</th>\n",
       "    </tr>\n",
       "  </thead>\n",
       "  <tbody>\n",
       "    <tr>\n",
       "      <th>5</th>\n",
       "      <td>20</td>\n",
       "      <td>230</td>\n",
       "      <td>9.690992</td>\n",
       "      <td>5.533115</td>\n",
       "      <td>-4.157877</td>\n",
       "    </tr>\n",
       "    <tr>\n",
       "      <th>14</th>\n",
       "      <td>24</td>\n",
       "      <td>210</td>\n",
       "      <td>10.455161</td>\n",
       "      <td>5.912703</td>\n",
       "      <td>-4.542457</td>\n",
       "    </tr>\n",
       "    <tr>\n",
       "      <th>119</th>\n",
       "      <td>60</td>\n",
       "      <td>270</td>\n",
       "      <td>9.215506</td>\n",
       "      <td>4.603016</td>\n",
       "      <td>-4.612489</td>\n",
       "    </tr>\n",
       "    <tr>\n",
       "      <th>120</th>\n",
       "      <td>60</td>\n",
       "      <td>280</td>\n",
       "      <td>9.128403</td>\n",
       "      <td>4.458517</td>\n",
       "      <td>-4.669886</td>\n",
       "    </tr>\n",
       "    <tr>\n",
       "      <th>118</th>\n",
       "      <td>60</td>\n",
       "      <td>260</td>\n",
       "      <td>9.234029</td>\n",
       "      <td>4.378271</td>\n",
       "      <td>-4.855758</td>\n",
       "    </tr>\n",
       "    <tr>\n",
       "      <th>3</th>\n",
       "      <td>20</td>\n",
       "      <td>210</td>\n",
       "      <td>10.455161</td>\n",
       "      <td>5.582577</td>\n",
       "      <td>-4.872583</td>\n",
       "    </tr>\n",
       "    <tr>\n",
       "      <th>16</th>\n",
       "      <td>24</td>\n",
       "      <td>230</td>\n",
       "      <td>9.690992</td>\n",
       "      <td>4.765967</td>\n",
       "      <td>-4.925025</td>\n",
       "    </tr>\n",
       "  </tbody>\n",
       "</table>\n",
       "</div>"
      ],
      "text/plain": [
       "     SMA1  SMA2     MARKET  Strategy       OUT\n",
       "5      20   230   9.690992  5.533115 -4.157877\n",
       "14     24   210  10.455161  5.912703 -4.542457\n",
       "119    60   270   9.215506  4.603016 -4.612489\n",
       "120    60   280   9.128403  4.458517 -4.669886\n",
       "118    60   260   9.234029  4.378271 -4.855758\n",
       "3      20   210  10.455161  5.582577 -4.872583\n",
       "16     24   230   9.690992  4.765967 -4.925025"
      ]
     },
     "execution_count": 19,
     "metadata": {},
     "output_type": "execute_result"
    }
   ],
   "source": [
    "results.sort_values('OUT',ascending=False).head(7)"
   ]
  },
  {
   "cell_type": "markdown",
   "metadata": {},
   "source": [
    "As we see in table abow, according to brut-force optimization, SMA1 = 20 and SMA2 = 230 are the best parameters to maximize the OUT value.\n",
    "\n",
    "This results are heavily dependent on the dataset that we use."
   ]
  },
  {
   "cell_type": "markdown",
   "metadata": {},
   "source": [
    "### Random Walk Hypathesis"
   ]
  },
  {
   "cell_type": "markdown",
   "metadata": {},
   "source": [
    "The random walk theory suggests that changes in stock prices have the same distribution and are independent of each other, therefore, the past movement or trend of a stock price or market cannot be used to predict its future movement. In short, this is the idea that stocks take a random and unpredictable path."
   ]
  },
  {
   "cell_type": "markdown",
   "metadata": {},
   "source": [
    "A proponent of the random walk theory believes it's impossible to outperform the market without assuming additional risk. Critics of the theory, however, contend that stocks do maintain price trends over time – in other words, that it is possible to outperform the market by carefully selecting entry and exit points for equity investments."
   ]
  },
  {
   "cell_type": "markdown",
   "metadata": {},
   "source": [
    "Using python, the RWH is tested here as follow:financial time series of historical market prices is used so number of lags are created, also Regression will use to prediction.\n",
    "\n",
    "The main idea is yesterday and other 4 more days back can be used to predict todays market prices."
   ]
  },
  {
   "cell_type": "code",
   "execution_count": 20,
   "metadata": {},
   "outputs": [],
   "source": [
    "sym = '.SPX'\n",
    "\n",
    "data = pd.DataFrame(df[sym])\n",
    "\n",
    "lags = 5\n",
    "cols =[]\n",
    "for lag in range(1, lags + 1):\n",
    "    col = 'lag_{}'.format(lag)\n",
    "    data[col] = data[sym].shift(lag)\n",
    "    cols.append(col)\n",
    "    \n",
    "    "
   ]
  },
  {
   "cell_type": "code",
   "execution_count": 22,
   "metadata": {},
   "outputs": [
    {
     "data": {
      "text/html": [
       "<div>\n",
       "<style scoped>\n",
       "    .dataframe tbody tr th:only-of-type {\n",
       "        vertical-align: middle;\n",
       "    }\n",
       "\n",
       "    .dataframe tbody tr th {\n",
       "        vertical-align: top;\n",
       "    }\n",
       "\n",
       "    .dataframe thead th {\n",
       "        text-align: right;\n",
       "    }\n",
       "</style>\n",
       "<table border=\"1\" class=\"dataframe\">\n",
       "  <thead>\n",
       "    <tr style=\"text-align: right;\">\n",
       "      <th></th>\n",
       "      <th>.SPX</th>\n",
       "      <th>lag_1</th>\n",
       "      <th>lag_2</th>\n",
       "      <th>lag_3</th>\n",
       "      <th>lag_4</th>\n",
       "      <th>lag_5</th>\n",
       "    </tr>\n",
       "    <tr>\n",
       "      <th>Date</th>\n",
       "      <th></th>\n",
       "      <th></th>\n",
       "      <th></th>\n",
       "      <th></th>\n",
       "      <th></th>\n",
       "      <th></th>\n",
       "    </tr>\n",
       "  </thead>\n",
       "  <tbody>\n",
       "    <tr>\n",
       "      <th>2010-01-01</th>\n",
       "      <td>NaN</td>\n",
       "      <td>NaN</td>\n",
       "      <td>NaN</td>\n",
       "      <td>NaN</td>\n",
       "      <td>NaN</td>\n",
       "      <td>NaN</td>\n",
       "    </tr>\n",
       "    <tr>\n",
       "      <th>2010-01-04</th>\n",
       "      <td>1132.99</td>\n",
       "      <td>NaN</td>\n",
       "      <td>NaN</td>\n",
       "      <td>NaN</td>\n",
       "      <td>NaN</td>\n",
       "      <td>NaN</td>\n",
       "    </tr>\n",
       "    <tr>\n",
       "      <th>2010-01-05</th>\n",
       "      <td>1136.52</td>\n",
       "      <td>1132.99</td>\n",
       "      <td>NaN</td>\n",
       "      <td>NaN</td>\n",
       "      <td>NaN</td>\n",
       "      <td>NaN</td>\n",
       "    </tr>\n",
       "    <tr>\n",
       "      <th>2010-01-06</th>\n",
       "      <td>1137.14</td>\n",
       "      <td>1136.52</td>\n",
       "      <td>1132.99</td>\n",
       "      <td>NaN</td>\n",
       "      <td>NaN</td>\n",
       "      <td>NaN</td>\n",
       "    </tr>\n",
       "    <tr>\n",
       "      <th>2010-01-07</th>\n",
       "      <td>1141.69</td>\n",
       "      <td>1137.14</td>\n",
       "      <td>1136.52</td>\n",
       "      <td>1132.99</td>\n",
       "      <td>NaN</td>\n",
       "      <td>NaN</td>\n",
       "    </tr>\n",
       "    <tr>\n",
       "      <th>2010-01-08</th>\n",
       "      <td>1144.98</td>\n",
       "      <td>1141.69</td>\n",
       "      <td>1137.14</td>\n",
       "      <td>1136.52</td>\n",
       "      <td>1132.99</td>\n",
       "      <td>NaN</td>\n",
       "    </tr>\n",
       "    <tr>\n",
       "      <th>2010-01-11</th>\n",
       "      <td>1146.98</td>\n",
       "      <td>1144.98</td>\n",
       "      <td>1141.69</td>\n",
       "      <td>1137.14</td>\n",
       "      <td>1136.52</td>\n",
       "      <td>1132.99</td>\n",
       "    </tr>\n",
       "    <tr>\n",
       "      <th>2010-01-12</th>\n",
       "      <td>1136.22</td>\n",
       "      <td>1146.98</td>\n",
       "      <td>1144.98</td>\n",
       "      <td>1141.69</td>\n",
       "      <td>1137.14</td>\n",
       "      <td>1136.52</td>\n",
       "    </tr>\n",
       "  </tbody>\n",
       "</table>\n",
       "</div>"
      ],
      "text/plain": [
       "               .SPX    lag_1    lag_2    lag_3    lag_4    lag_5\n",
       "Date                                                            \n",
       "2010-01-01      NaN      NaN      NaN      NaN      NaN      NaN\n",
       "2010-01-04  1132.99      NaN      NaN      NaN      NaN      NaN\n",
       "2010-01-05  1136.52  1132.99      NaN      NaN      NaN      NaN\n",
       "2010-01-06  1137.14  1136.52  1132.99      NaN      NaN      NaN\n",
       "2010-01-07  1141.69  1137.14  1136.52  1132.99      NaN      NaN\n",
       "2010-01-08  1144.98  1141.69  1137.14  1136.52  1132.99      NaN\n",
       "2010-01-11  1146.98  1144.98  1141.69  1137.14  1136.52  1132.99\n",
       "2010-01-12  1136.22  1146.98  1144.98  1141.69  1137.14  1136.52"
      ]
     },
     "execution_count": 22,
     "metadata": {},
     "output_type": "execute_result"
    }
   ],
   "source": [
    "data.head(8)"
   ]
  },
  {
   "cell_type": "code",
   "execution_count": 23,
   "metadata": {},
   "outputs": [],
   "source": [
    "data.dropna(inplace = True)"
   ]
  }
 ],
 "metadata": {
  "kernelspec": {
   "display_name": "Python 3",
   "language": "python",
   "name": "python3"
  },
  "language_info": {
   "codemirror_mode": {
    "name": "ipython",
    "version": 3
   },
   "file_extension": ".py",
   "mimetype": "text/x-python",
   "name": "python",
   "nbconvert_exporter": "python",
   "pygments_lexer": "ipython3",
   "version": "3.7.2"
  }
 },
 "nbformat": 4,
 "nbformat_minor": 2
}
